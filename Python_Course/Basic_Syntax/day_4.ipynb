{
 "cells": [
  {
   "cell_type": "markdown",
   "metadata": {},
   "source": [
    "### Day 4: Data Structures in Python\n",
    "### 1. Lists\n",
    "-   What are Lists?\n",
    "\n",
    "    -   A list is an ordered collection of items (elements). Lists are mutable, meaning you can change their contents after creation (e.g., adding, removing, or modifying elements).\n",
    "-   Creating a List:"
   ]
  },
  {
   "cell_type": "code",
   "execution_count": null,
   "metadata": {},
   "outputs": [],
   "source": [
    "#Creating a list \n",
    "\n",
    "fruits = [\"apple\",  \"banana\",  \"cherry\"]"
   ]
  },
  {
   "cell_type": "markdown",
   "metadata": {},
   "source": [
    "- Accessing Elements:"
   ]
  },
  {
   "cell_type": "code",
   "execution_count": null,
   "metadata": {},
   "outputs": [],
   "source": [
    "# Accessing elements by index (0-based index)\n",
    "\n",
    "print(fruits[0])\n",
    "print(fruits[1])\n",
    "print(fruits[-1])"
   ]
  },
  {
   "cell_type": "markdown",
   "metadata": {},
   "source": [
    "-   Modifying Lists:"
   ]
  },
  {
   "cell_type": "code",
   "execution_count": null,
   "metadata": {},
   "outputs": [],
   "source": [
    "# Changing an element \n",
    "fruits[1] = \"blueberry\"\n",
    "print(fruits)\n",
    "\n",
    "#Adding elements\n",
    "fruits.append(\"orange\")\n",
    "print(fruits)\n",
    "\n",
    "# Removing elements\n",
    "fruits.remove(\"blueberry\")\n",
    "print(fruits)"
   ]
  },
  {
   "cell_type": "markdown",
   "metadata": {},
   "source": [
    "### 2. Tuples\n",
    "-   What are Tuples?\n",
    "\n",
    "    -   A tuple is similar to a list, but it is immutable, meaning you cannot change its contents after creation.\n",
    "-   Creating a Tuple:"
   ]
  },
  {
   "cell_type": "code",
   "execution_count": null,
   "metadata": {},
   "outputs": [],
   "source": [
    "# Creating a tuple\n",
    "\n",
    "coordinates = (10,20)"
   ]
  },
  {
   "cell_type": "markdown",
   "metadata": {},
   "source": [
    "-   Accessing Elements:"
   ]
  },
  {
   "cell_type": "code",
   "execution_count": null,
   "metadata": {},
   "outputs": [],
   "source": [
    "# Accessing elements by index\n",
    "\n",
    "print(coordinates[0])\n",
    "print(coordinates[-1])"
   ]
  },
  {
   "cell_type": "markdown",
   "metadata": {},
   "source": [
    "-   Immutability:"
   ]
  },
  {
   "cell_type": "code",
   "execution_count": null,
   "metadata": {},
   "outputs": [],
   "source": [
    "# Attemp to change an element like list will result to error\n",
    "# coordinates[0]= 15  TypeError: 'tuple' object does not support item assignment"
   ]
  },
  {
   "cell_type": "markdown",
   "metadata": {},
   "source": [
    "### 3. Dictionaries\n",
    "-   What are Dictionaries?\n",
    "\n",
    "    -   A dictionary is an unordered collection of key-value pairs. It is mutable and allows you to quickly access values based on their corresponding keys.\n",
    "-   Creating a Dictionary:"
   ]
  },
  {
   "cell_type": "code",
   "execution_count": null,
   "metadata": {},
   "outputs": [],
   "source": [
    "# Creating a dictionary\n",
    "\n",
    "student = {\n",
    "    \"name\": \"Alice\",\n",
    "    \"age\": 25,\n",
    "    \"courses\": [\"Math\", \"Chemistry\"]\n",
    "}"
   ]
  },
  {
   "cell_type": "markdown",
   "metadata": {},
   "source": [
    "-   Accessing Values:"
   ]
  },
  {
   "cell_type": "code",
   "execution_count": null,
   "metadata": {},
   "outputs": [],
   "source": [
    "# Accessing values by key \n",
    "print(student[\"name\"])\n",
    "print(student[\"age\"])"
   ]
  },
  {
   "cell_type": "markdown",
   "metadata": {},
   "source": [
    "-   Modifying Dictionaries:"
   ]
  },
  {
   "cell_type": "code",
   "execution_count": null,
   "metadata": {},
   "outputs": [],
   "source": [
    "# Adding a new key-value pair\n",
    "student[\"grade\"] = \"A\"\n",
    "print(student)\n",
    "\n",
    "# updating a value\n",
    "student[\"age\"] = 27\n",
    "print(student[\"age\"])\n",
    "\n",
    "# removing a key-value pair\n",
    "\n",
    "del student[\"courses\"]\n",
    "print(student)"
   ]
  },
  {
   "cell_type": "markdown",
   "metadata": {},
   "source": [
    "### 4. Sets\n",
    "-   What are Sets?\n",
    "\n",
    "    -   A set is an unordered collection of unique elements. Sets are mutable and useful when you need to ensure that no duplicates are present in your data.\n",
    "-   Creating a Set:"
   ]
  },
  {
   "cell_type": "code",
   "execution_count": null,
   "metadata": {},
   "outputs": [],
   "source": [
    "# Creating a set\n",
    "fruits = {\"apple\", \"banana\", \"cherry\"}"
   ]
  },
  {
   "cell_type": "markdown",
   "metadata": {},
   "source": [
    "-   Adding and removing Elements:"
   ]
  },
  {
   "cell_type": "code",
   "execution_count": null,
   "metadata": {},
   "outputs": [],
   "source": [
    "# Adding an element \n",
    "fruits.add(\"orange\")\n",
    "print(fruits)\n",
    "\n",
    "# Removing an element\n",
    "fruits.remove(\"banana\")\n",
    "print(fruits)"
   ]
  },
  {
   "cell_type": "markdown",
   "metadata": {},
   "source": [
    "- Unique Elements:"
   ]
  },
  {
   "cell_type": "code",
   "execution_count": null,
   "metadata": {},
   "outputs": [],
   "source": [
    "# Adding a duplicate element has no effect\n",
    "fruits. add(\"apple\")\n",
    "print(fruits)"
   ]
  },
  {
   "cell_type": "markdown",
   "metadata": {},
   "source": [
    "### 5. Exercises\n",
    "Let's practice with some exercises based on what we’ve learned today:\n",
    "\n",
    "1. Shopping List:\n",
    "\n",
    "    - Create a list to store the names of items you need to buy. Add at least 5 items to your list. Then, print the list and remove one item using its name.\n",
    "2. Contact Book:\n",
    "\n",
    "    - Create a dictionary to store contact information (name, phone number, and email) for three people. Print each person’s contact information.\n",
    "3. Unique Numbers:\n",
    "\n",
    "    - Create a set to store the unique numbers from a list that contains duplicates. Print the set to see the unique numbers.\n",
    "4. Immutable Coordinates:\n",
    "\n",
    "    - Create a tuple to store the coordinates (x, y) of a point. Try to change one of the coordinates (this should result in an error, which you can comment out afterward)."
   ]
  },
  {
   "cell_type": "markdown",
   "metadata": {},
   "source": [
    "- Exercise 1: "
   ]
  },
  {
   "cell_type": "code",
   "execution_count": null,
   "metadata": {},
   "outputs": [],
   "source": [
    "# Exercise 1\n",
    "\n",
    "# Create a list to store the names of items you need to buy. Add at least 5 items to your list. \n",
    "# Then, print the list and remove one item using its name.\n",
    "groceries = [\"tomatoes\", \"butter\", \"cheese\", \"chilli\", \"onions\"]\n",
    "print(type(groceries))\n",
    "print(groceries)\n",
    "\n",
    "remove_grocery = groceries.remove(\"butter\")\n",
    "print(groceries)"
   ]
  },
  {
   "cell_type": "code",
   "execution_count": null,
   "metadata": {},
   "outputs": [],
   "source": [
    "# Exercise Two\n",
    "\n",
    "# Create a dictionary to store contact information (name, phone number, and email) for three people. Print each person’s contact information.\n",
    "\n",
    "contact_info = {\n",
    "    \"Dunsin\":{\n",
    "        \"phone_number\": \"784656441\",\n",
    "        \"email\": \"d@femi.com\"\n",
    "    },\n",
    "    \"Tobi\":{\n",
    "        \"phone_number\": \"788546221\",\n",
    "        \"email\": \"tobi@xx.cm\"\n",
    "    },\n",
    "    \"Ayo\":{\n",
    "        \"phone_number\": \"655444874\",\n",
    "        \"email\": \"ayo@gmail.com\"\n",
    "    }\n",
    "}\n",
    "\n",
    "for name, info in contact_info.items():\n",
    "    print(f\"Contact information for {name}:\")\n",
    "    print(f\"Phone: {info['phone_number']}\")\n",
    "    print(f\"email: {info['email']}\")\n",
    "    print()"
   ]
  },
  {
   "cell_type": "code",
   "execution_count": null,
   "metadata": {},
   "outputs": [],
   "source": [
    "# Exercise Three\n",
    "# Create a set to store the unique numbers from a list that contains duplicates. Print the set to see the unique numbers.\n",
    "\n",
    "# Create list first\n",
    "duplicate_number = [2, 5, 7, 5, 6, 8, 8, 7, 4, 1, 0, 9, 3, 1]\n",
    "\n",
    "type(duplicate_number)\n",
    "\n",
    "# change to set\n",
    "no_duplicate_number =set(duplicate_number)\n",
    "\n",
    "# print the unique values\n",
    "print(no_duplicate_number)"
   ]
  },
  {
   "cell_type": "code",
   "execution_count": null,
   "metadata": {},
   "outputs": [],
   "source": [
    "# Create a tuple to store the coordinates (x, y) of a point.\n",
    "# Try to change one of the coordinates (this should result in an error, which you can comment out afterward\n",
    "x = 10\n",
    "y = 12\n",
    "\n",
    "coordinates_2 = (x,y)\n",
    "\n",
    "coordinates_2[0] = 50 # 'tuple' object does not support item assignment"
   ]
  },
  {
   "cell_type": "markdown",
   "metadata": {},
   "source": [
    "### 6. Conclusion\n",
    "Today you’ve learned about Python’s core data structures: lists, tuples, dictionaries, and sets. These structures are fundamental to organizing and managing data effectively in your programs. Understanding when and how to use them will make your code more efficient and easier to work with.\n",
    "\n",
    "Tomorrow, we’ll explore loops and comprehensions to process data in these structures more efficiently.\n",
    "\n",
    "Feel free to work on the exercises, and if you have any questions, just ask. I’m here to help! See you tomorrow! 😊"
   ]
  }
 ],
 "metadata": {
  "kernelspec": {
   "display_name": "Python 3",
   "language": "python",
   "name": "python3"
  },
  "language_info": {
   "codemirror_mode": {
    "name": "ipython",
    "version": 3
   },
   "file_extension": ".py",
   "mimetype": "text/x-python",
   "name": "python",
   "nbconvert_exporter": "python",
   "pygments_lexer": "ipython3",
   "version": "3.10.1"
  }
 },
 "nbformat": 4,
 "nbformat_minor": 2
}
