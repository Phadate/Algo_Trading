{
 "cells": [
  {
   "cell_type": "markdown",
   "metadata": {},
   "source": [
    "### Day 3: Functions in Python\n",
    "### 1. What Are Functions?\n",
    "A function is a block of organized, reusable code that performs a single, related action. Functions help in making your code modular and easier to understand. Instead of writing the same code multiple times, you can just write it once and call it whenever needed.\n",
    "\n",
    "### 2. Defining a Function\n",
    "In Python, you define a function using the `def` keyword, followed by the function name, parentheses `()`, and a colon `:`. The code inside the function is indented.\n",
    "\n",
    "Here’s a simple example of a function that greets the user:"
   ]
  },
  {
   "cell_type": "code",
   "execution_count": 1,
   "metadata": {},
   "outputs": [
    {
     "name": "stdout",
     "output_type": "stream",
     "text": [
      "Hello! Welcome to Day 3 of our python lessons.\n"
     ]
    }
   ],
   "source": [
    "def greet():\n",
    "    print(\"Hello! Welcome to Day 3 of our python lessons.\")\n",
    "\n",
    "\n",
    "# calling the function\n",
    "greet()"
   ]
  },
  {
   "cell_type": "markdown",
   "metadata": {},
   "source": [
    "### 3. Parameters and Arguments\n",
    "Functions can accept parameters (inputs) that allow you to pass data into them. When you call a function, you provide arguments (the actual values) that correspond to the parameters.\n",
    "\n",
    "Here’s an example:"
   ]
  },
  {
   "cell_type": "code",
   "execution_count": 2,
   "metadata": {},
   "outputs": [
    {
     "name": "stdout",
     "output_type": "stream",
     "text": [
      "Hello, Phadate! How are you today?\n"
     ]
    }
   ],
   "source": [
    "def greet_user(name):\n",
    "    print(f\"Hello, {name}! How are you today?\")\n",
    "\n",
    "# calling the fucntion with an argument \n",
    "greet_user(\"Phadate\")"
   ]
  },
  {
   "cell_type": "markdown",
   "metadata": {},
   "source": [
    "-   Parameters: Variables that the function expects to receive.\n",
    "-   Arguments: The actual values you pass to the function when calling it."
   ]
  },
  {
   "cell_type": "markdown",
   "metadata": {},
   "source": [
    "### 4. Return Statement\n",
    "Functions can also return a value using the return statement. This allows the function to send data back to the caller.\n",
    "\n",
    "- Python functions can return multiple values using commas.\n",
    "\n",
    "Example:"
   ]
  },
  {
   "cell_type": "code",
   "execution_count": 3,
   "metadata": {},
   "outputs": [
    {
     "name": "stdout",
     "output_type": "stream",
     "text": [
      "Addition: 21\n",
      "Subtraction: 7\n"
     ]
    }
   ],
   "source": [
    "# create a function named add_numbers \n",
    "def add_numbers(a,b):\n",
    "    add =  a + b\n",
    "    subtract = a - b\n",
    "    return add, subtract\n",
    "\n",
    "#storing the result in a variable\n",
    "add, sub = add_numbers(14, 7)\n",
    "print( \"Addition:\", add)\n",
    "print(f\"Subtraction: {sub}\")"
   ]
  },
  {
   "cell_type": "markdown",
   "metadata": {},
   "source": [
    "### 5. Default Parameters\n",
    "You can provide default values for parameters. If no argument is passed for a parameter with a default value, the function uses the default."
   ]
  },
  {
   "cell_type": "code",
   "execution_count": 6,
   "metadata": {},
   "outputs": [
    {
     "name": "stdout",
     "output_type": "stream",
     "text": [
      "Hello, Guest! Welcome.\n",
      "Hello, Julia! Welcome.\n"
     ]
    }
   ],
   "source": [
    "# create a function with a default paramenters\n",
    "def greet_user(name=\"Guest\"):\n",
    "    print(f\"Hello, {name}! Welcome.\")\n",
    "\n",
    "# when function is called with an argument, we have a defalt value\n",
    "greet_user()\n",
    "\n",
    "\n",
    "# calling the function with an argument overrides the default value\n",
    "greet_user(\"Julia\")"
   ]
  },
  {
   "cell_type": "markdown",
   "metadata": {},
   "source": [
    "### 6. Keyword Arguments\n",
    "When calling a function, you can specify arguments by the parameter names. This allows you to pass arguments in any order."
   ]
  },
  {
   "cell_type": "code",
   "execution_count": 7,
   "metadata": {},
   "outputs": [
    {
     "name": "stdout",
     "output_type": "stream",
     "text": [
      "I love Chelsea in the English Premier league.\n"
     ]
    }
   ],
   "source": [
    "# Create a function with more argument\n",
    "def _describe_clubs(club_type, club_name):\n",
    "    print(f\"I love {club_name} in the {club_type}.\")\n",
    "\n",
    "# Using keyword arguments\n",
    "_describe_clubs(club_name=\"Chelsea\", club_type=\"English Premier league\")"
   ]
  },
  {
   "cell_type": "markdown",
   "metadata": {},
   "source": [
    "### 7. Lambda Functions (Anonymous Functions)\n",
    "Lambda functions are small, anonymous functions defined using the lambda keyword.\\\n",
    "They can have any number of arguments but only one expression.\n",
    "\n",
    "Example:"
   ]
  },
  {
   "cell_type": "code",
   "execution_count": 1,
   "metadata": {},
   "outputs": [
    {
     "name": "stdout",
     "output_type": "stream",
     "text": [
      "Mutiplication of this number is: 12\n"
     ]
    }
   ],
   "source": [
    "# Lambda fuction to multiply two numbers\n",
    "multiply = lambda x,y: x * y\n",
    "print(\"Mutiplication of this number is:\", multiply(3,4))"
   ]
  },
  {
   "cell_type": "markdown",
   "metadata": {},
   "source": [
    "### 8. Exercise\n",
    "Let’s practice what we’ve learned today:\n",
    "\n",
    "1. Simple Calculator: Write a function called `calculate()` that takes three parameters: `num1`, `num2`, and `operation`. Depending on the `operation` parameter, the function should return the result of adding, subtracting, multiplying, or dividing `num1` and `num2`.\n",
    "\n",
    "2. Area of a Circle: Write a function called `circle_area()` that takes the radius of a circle as a parameter and returns the area of the circle. Use the formula `area = π * r^2`, and you can use `π = 3.14159`.\n",
    "\n",
    "3. Personalized Greeting: Write a function called `personal_greeting()` that takes the user’s name and age as parameters and returns a message like \"Hello [name], you are [age] years old!\"\n",
    "\n",
    "4. Create a Function to Convert Celsius to Fahrenheit:\n",
    "Write a function named celsius_to_fahrenheit() that takes a Celsius temperature as an argument and returns the Fahrenheit equivalent.\n",
    "\n",
    "5. Function to Calculate the Factorial of a Number:\n",
    "Write a function named factorial() that takes a number and returns its factorial.\n",
    "\n",
    "6. Function with Multiple Returns:\n",
    "Create a function named calculate_circle() that takes the radius as input and returns both the circumference and area of the circle.\n",
    "\n",
    "7. Use a Lambda Function:\n",
    "Create a lambda function to find the maximum of two numbers."
   ]
  },
  {
   "cell_type": "code",
   "execution_count": 19,
   "metadata": {},
   "outputs": [
    {
     "name": "stdout",
     "output_type": "stream",
     "text": [
      "3\n"
     ]
    },
    {
     "data": {
      "text/plain": [
       "2.5"
      ]
     },
     "execution_count": 19,
     "metadata": {},
     "output_type": "execute_result"
    }
   ],
   "source": [
    "# Exercise 1\n",
    "\n",
    "def calculate(num1, num2, operation):\n",
    "    # use a if statement \n",
    "    if operation == \"add\":\n",
    "        return num1 + num2\n",
    "    elif operation == \"subtract\":\n",
    "        return num1 - num2\n",
    "    elif operation == \"multiply\":\n",
    "        return num1 * num2\n",
    "    elif operation == \"divide\":\n",
    "        # handle dividing number by 0\n",
    "        if num2 == 0:\n",
    "            return \"Error! You can divide with 0\"\n",
    "        else:\n",
    "            return num1 / num2\n",
    "    else:\n",
    "        return \"Invalid Operation\"\n",
    "\n",
    "#\n",
    "print(calculate(2, 1, \"add\")) \n",
    "\n",
    "calculate(5, 2, 'divide')"
   ]
  },
  {
   "cell_type": "code",
   "execution_count": 10,
   "metadata": {},
   "outputs": [
    {
     "data": {
      "text/plain": [
       "254.46878999999998"
      ]
     },
     "execution_count": 10,
     "metadata": {},
     "output_type": "execute_result"
    }
   ],
   "source": [
    "# Exercise Two\n",
    "\n",
    "def circle_area(r):\n",
    "    π = 3.14159\n",
    "    area = π * r **2\n",
    "    return area\n",
    "\n",
    "# Example\n",
    "\n",
    "result = circle_area(9)\n",
    "print(result)"
   ]
  },
  {
   "cell_type": "code",
   "execution_count": 15,
   "metadata": {},
   "outputs": [
    {
     "name": "stdout",
     "output_type": "stream",
     "text": [
      "Hello Noni, you are 23 years old!\n"
     ]
    }
   ],
   "source": [
    "# Exercise Three\n",
    "# Personalized Greeting: Write a function called `personal_greeting()` that \n",
    "# takes the user’s name and age as parameters and returns a message like \"Hello [name], you are [age] years old!\"\n",
    "\n",
    "def personal_greeting(name:str,age:int):\n",
    "    print(f\"Hello {name}, you are {age} years old!\")\n",
    "\n",
    "# Example usage:\n",
    "greeting = personal_greeting(\"Noni\", 23)\n",
    "print(greeting)"
   ]
  },
  {
   "cell_type": "code",
   "execution_count": 4,
   "metadata": {},
   "outputs": [
    {
     "name": "stdout",
     "output_type": "stream",
     "text": [
      "The current Poland's temperature in fahrenheit is: 69.8\n"
     ]
    }
   ],
   "source": [
    "# Exercise 4\n",
    "# Write a function named celsius_to_fahrenheit() that takes a Celsius temperature as an argument and returns the Fahrenheit equivalent.\n",
    "\n",
    "def celsius_to_fahrenheit(celsius):\n",
    "    return (celsius * 9/5) + 32\n",
    "\n",
    "print(\"The current Poland's temperature in fahrenheit is:\", celsius_to_fahrenheit(21))"
   ]
  },
  {
   "cell_type": "code",
   "execution_count": 5,
   "metadata": {},
   "outputs": [
    {
     "name": "stdout",
     "output_type": "stream",
     "text": [
      "factorial for n!: 720\n"
     ]
    }
   ],
   "source": [
    "# Exercise 5 \n",
    "# Write a function named factorial() that takes a number and returns its factorial.\n",
    "\n",
    "def factorial(n):\n",
    "    if n == 0 or n == 1:\n",
    "        return 1\n",
    "    else:\n",
    "        return n * factorial(n-1)\n",
    "\n",
    "print(\"factorial for n!:\", factorial(6))"
   ]
  },
  {
   "cell_type": "code",
   "execution_count": 13,
   "metadata": {},
   "outputs": [
    {
     "name": "stdout",
     "output_type": "stream",
     "text": [
      "Area: 50.26544\n",
      "Circumference:  25.13272\n"
     ]
    }
   ],
   "source": [
    "# Exercise 6\n",
    "#  Create a function named calculate_circle() that takes the radius as input and returns both the circumference and area of the circle.\n",
    "\n",
    "def calculate_circle(radius):\n",
    "    π = 3.14159\n",
    "    area = π * radius **2\n",
    "    circumference = 2 * π * radius\n",
    "    return area, circumference\n",
    "\n",
    "# Example\n",
    "\n",
    "area, cir = calculate_circle(4)\n",
    "print( \"Area:\", area)\n",
    "print(\"Circumference: \", cir)"
   ]
  },
  {
   "cell_type": "code",
   "execution_count": 15,
   "metadata": {},
   "outputs": [
    {
     "data": {
      "text/plain": [
       "8"
      ]
     },
     "execution_count": 15,
     "metadata": {},
     "output_type": "execute_result"
    }
   ],
   "source": [
    "# Exercise 7\n",
    "# Create a lambda function to find the maximum of two numbers\n",
    "\n",
    "max_number = lambda x,y : x if x > y else y\n",
    "\n",
    "max_number(8,5)"
   ]
  },
  {
   "cell_type": "markdown",
   "metadata": {},
   "source": [
    "### 8. Conclusion\n",
    "That’s it for today! You’ve learned how to define functions, use parameters, return values, and more. Functions are fundamental to writing clean, efficient, and reusable code, so mastering them will significantly improve your Python programming skills.\n",
    "\n",
    "Tomorrow, we'll explore data structures like lists, tuples, dictionaries, and sets, which are essential for managing collections of data.\n",
    "\n",
    "If you have any questions or need help with the exercises, feel free to ask. Keep practicing, and see you tomorrow! 😊\n"
   ]
  }
 ],
 "metadata": {
  "kernelspec": {
   "display_name": "Python 3",
   "language": "python",
   "name": "python3"
  },
  "language_info": {
   "codemirror_mode": {
    "name": "ipython",
    "version": 3
   },
   "file_extension": ".py",
   "mimetype": "text/x-python",
   "name": "python",
   "nbconvert_exporter": "python",
   "pygments_lexer": "ipython3",
   "version": "3.10.1"
  }
 },
 "nbformat": 4,
 "nbformat_minor": 2
}
