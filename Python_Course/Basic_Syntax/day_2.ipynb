{
 "cells": [
  {
   "cell_type": "markdown",
   "metadata": {},
   "source": [
    "### 1. Recap from Day 1\n",
    "Before I move forward, let me quickly recap what I learned yesterday:\n",
    "\n",
    "I learned about basic Python syntax, variables, and data types.\n",
    "I covered how to perform basic arithmetic operations and how to get user input."
   ]
  },
  {
   "cell_type": "markdown",
   "metadata": {},
   "source": [
    "### 2. `if`, `else`, and `elif` Statements\n",
    "Control flow allows your program to make decisions and execute code conditionally. The `if`, `else`, and `elif` statements are used to control the flow of a program based on conditions.\n",
    "\n",
    "-   `if` Statement: Executes a block of code if a condition is true.\n",
    "-   `else` Statement: Executes a block of code if the condition in the `if` statement is false.\n",
    "-   `elif` Statement: Short for \"else if\", it allows you to check multiple conditions."
   ]
  },
  {
   "cell_type": "code",
   "execution_count": null,
   "metadata": {},
   "outputs": [],
   "source": [
    "age = 20 \n",
    "\n",
    "if age < 18:\n",
    "    print(\"You are a minor.\")\n",
    "elif age >= 18 and age < 65:\n",
    "    print(\"You are an adult.\")\n",
    "else:\n",
    "    print(\"You are a senior citizen.\")"
   ]
  },
  {
   "cell_type": "markdown",
   "metadata": {},
   "source": [
    "### 3. Comparison and Logical Operators\n",
    "In the example above, I used comparison operators like `<` and `>=`. These are essential for making decisions:\n",
    "\n",
    "-   Comparison Operators:\n",
    "\n",
    "      - `==`: Equal to\n",
    "      - `!=`: Not equal to\n",
    "      - `<`: Less than\n",
    "      - `>`: Greater than\n",
    "      - `<=`: Less than or equal to\n",
    "      - `>=`: Greater than or equal to\n",
    "-   Logical Operators:\n",
    "\n",
    "      - `and`: Returns True if both conditions are true.\n",
    "      - `or` : Returns True if at least one condition is true.\n",
    "      - `not`: Reverses the truth value (i.e., True becomes False and vice versa)."
   ]
  },
  {
   "cell_type": "code",
   "execution_count": null,
   "metadata": {},
   "outputs": [],
   "source": [
    "age = 17\n",
    "can_drink = True\n",
    "\n",
    "if age >= 18 and can_drink:\n",
    "    print(\"Your are eligible to drink\")\n",
    "else:\n",
    "    print(\"You dare not drink.\")"
   ]
  },
  {
   "cell_type": "markdown",
   "metadata": {},
   "source": [
    "### 4. Loops\n",
    "Loops allow you to execute a block of code multiple times. Python provides two main types of loops: `for` and `while`.\n",
    "\n",
    "**4.1 `for` Loop** \\\n",
    "A `for` loop is used to iterate over a sequence (like a list, tuple, or string) and execute a block of code for each item in the sequence."
   ]
  },
  {
   "cell_type": "code",
   "execution_count": null,
   "metadata": {},
   "outputs": [],
   "source": [
    "# Example: Iterating over a list \n",
    "countries = [\"Poland\", \"Spain\", \"Ikorodu\"]\n",
    "\n",
    "for country in countries:\n",
    "    print(country)"
   ]
  },
  {
   "cell_type": "markdown",
   "metadata": {},
   "source": [
    "**4.2 `while` Loop** \\\n",
    "A `while` loop continues to execute a block of code as long as a condition is true."
   ]
  },
  {
   "cell_type": "code",
   "execution_count": null,
   "metadata": {},
   "outputs": [],
   "source": [
    "# Example: Printing numbers from 0 to 5\n",
    "number = 0\n",
    "\n",
    "while number <= 5:\n",
    "    print(number)\n",
    "    number += 1  # Increment the number by 1\n"
   ]
  },
  {
   "cell_type": "markdown",
   "metadata": {},
   "source": [
    "### 5. `break` and `continue` Statements\n",
    "Sometimes, you may want to exit a loop early or skip an iteration:\n",
    "\n",
    "-   `break`: Exits the loop completely.\n",
    "-   `continue`: Skips the rest of the code inside the loop for the current iteration and moves to the next iteration."
   ]
  },
  {
   "cell_type": "code",
   "execution_count": null,
   "metadata": {},
   "outputs": [],
   "source": [
    "# Example: Stopping the loop when a specific condition is met\n",
    "for i in range(10):\n",
    "    if i ==5:\n",
    "        break # Exit the loop when i = 5\n",
    "    print(i)\n",
    "\n",
    "# Example: skipping an iteration \n",
    "for i in range(10):\n",
    "    if i % 2 == 0:\n",
    "        continue # skip even numbers \n",
    "    print(i) # print only odd numbers "
   ]
  },
  {
   "cell_type": "markdown",
   "metadata": {},
   "source": [
    "### 6. Exercise\n",
    "Let’s practice what we’ve learned today:\n",
    "\n",
    "1.  Number Guessing Game: Write a program that generates a random number between 1 and 10, and ask the user to guess the number. If the user guesses wrong, let them try again until they get it right.\n",
    "\n",
    "    -   Hint: You can use the `random` module with `random.randint(1, 10)` to generate the random number.\n",
    "2.  Multiplication Table: Write a program that asks the user for a number and prints the multiplication table for that number up to 10.\n",
    "\n",
    "3.  Even or Odd: Write a program that checks if a number is even or odd using a loop to test multiple numbers in one run."
   ]
  },
  {
   "cell_type": "code",
   "execution_count": null,
   "metadata": {},
   "outputs": [],
   "source": [
    "# Exercise one \n",
    "import random\n",
    "\n",
    "random_num = random.randint(1,10)\n",
    "\n",
    "guess_number = None\n",
    "\n",
    "\n",
    "while guess_number != random_num:\n",
    "    guess_number = int(input(\"Enter any number from 1 - 10: \"))\n",
    "      \n",
    "    if guess_number > random_num:\n",
    "        print(\"Too high! Try again\")\n",
    "    elif guess_number < random_num:\n",
    "        print(\"Too low! try again\")\n",
    "    else:\n",
    "        print(\"You got the number right\")\n",
    "\n"
   ]
  },
  {
   "cell_type": "markdown",
   "metadata": {},
   "source": [
    "### 7. Conclusion\n",
    "That wraps up Day 2! Today, you learned how to control the flow of your Python programs using `if`, `else`, and `elif` statements, as well as loops. These concepts are critical for making your programs more dynamic and responsive.\n",
    "\n",
    "Tomorrow, we’ll dive into functions—a powerful way to organize and reuse your code. As always, if you have any questions or need help with the exercises, feel free to ask.\n",
    "\n",
    "Keep up the great work, and see you tomorrow! 😊"
   ]
  }
 ],
 "metadata": {
  "kernelspec": {
   "display_name": "Python 3",
   "language": "python",
   "name": "python3"
  },
  "language_info": {
   "codemirror_mode": {
    "name": "ipython",
    "version": 3
   },
   "file_extension": ".py",
   "mimetype": "text/x-python",
   "name": "python",
   "nbconvert_exporter": "python",
   "pygments_lexer": "ipython3",
   "version": "3.10.1"
  }
 },
 "nbformat": 4,
 "nbformat_minor": 2
}
