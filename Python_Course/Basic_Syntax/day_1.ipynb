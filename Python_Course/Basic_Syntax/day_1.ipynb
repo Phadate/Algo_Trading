{
 "cells": [
  {
   "cell_type": "markdown",
   "metadata": {},
   "source": [
    "### 1. Introduction to Python\n",
    "Python is a high-level, interpreted programming language known for its simplicity and readability. It's widely used in data science, web development, automation, and more."
   ]
  },
  {
   "cell_type": "markdown",
   "metadata": {},
   "source": [
    "### 2. Setting Up Your Python Environment\n",
    "If you haven't already set up Python on your computer, follow these steps:\n",
    "\n",
    "Install Python: You can download and install Python from python.org. Make sure to check the option to add Python to your PATH during installation.\n",
    "Install a Code Editor: I recommend using Visual Studio Code "
   ]
  },
  {
   "cell_type": "markdown",
   "metadata": {},
   "source": [
    "### 3. Python Syntax Basics\n",
    "Let's start by looking at how Python code is structured:\n",
    "\n",
    "Indentation: Python uses indentation (spaces or tabs) to define blocks of code. This is different from many other languages that use curly braces {}.\n",
    "Comments: Comments are lines of code that are ignored by the interpreter. They are useful for adding notes to your code. In Python, comments start with #."
   ]
  },
  {
   "cell_type": "code",
   "execution_count": 7,
   "metadata": {},
   "outputs": [
    {
     "name": "stdout",
     "output_type": "stream",
     "text": [
      "Hello, world!\n"
     ]
    }
   ],
   "source": [
    "# This is a comment \n",
    "print(\"Hello, world!\") # Output will be 'Hello, world!'"
   ]
  },
  {
   "cell_type": "markdown",
   "metadata": {},
   "source": [
    "### 4. Variables and Data Types\n",
    "Variables are used to store data. In Python, you don't need to declare the type of a variable when you create it—Python determines the type based on the value you assign.\n",
    "\n",
    "Variable assignment: Use = to assign a value to a variable."
   ]
  },
  {
   "cell_type": "code",
   "execution_count": 8,
   "metadata": {},
   "outputs": [],
   "source": [
    "# variable being assigned \n",
    "age = 25 # int\n",
    "name = \"Dunsin\" # string\n",
    "height = 5.8 # float\n",
    "is_student = False # Boolean\n",
    "is_working = True # boolean"
   ]
  },
  {
   "cell_type": "markdown",
   "metadata": {},
   "source": [
    "- Data Types:\n",
    "    - Integers (int): Whole numbers.\n",
    "    - Floating-point numbers (float): Numbers with decimals.\n",
    "    - Strings (str): Sequences of characters enclosed in quotes.\n",
    "    - Booleans (bool): True or False values"
   ]
  },
  {
   "cell_type": "markdown",
   "metadata": {},
   "source": [
    "### 5. Basic Operations\n",
    "Python supports basic arithmetic operations, which you can perform with variables or directly with numbers:"
   ]
  },
  {
   "cell_type": "code",
   "execution_count": 9,
   "metadata": {},
   "outputs": [
    {
     "name": "stdout",
     "output_type": "stream",
     "text": [
      "13\n",
      "7\n",
      "30\n",
      "3.3333333333333335\n",
      "1\n",
      "1000\n"
     ]
    }
   ],
   "source": [
    "# Arithemetric operations\n",
    "x = 10\n",
    "y = 3\n",
    "\n",
    "print(x + y) # addition\n",
    "print(x - y) # Subtraction\n",
    "print(x * y) # Mutiply\n",
    "print(x / y) # Division\n",
    "print(x % y) # Modulus\n",
    "print(x ** y) # Explonentiation\n"
   ]
  },
  {
   "cell_type": "markdown",
   "metadata": {},
   "source": [
    "### 6. Getting input from users\n",
    "you can get input from users by using the `input()` function: "
   ]
  },
  {
   "cell_type": "code",
   "execution_count": 10,
   "metadata": {},
   "outputs": [
    {
     "name": "stdout",
     "output_type": "stream",
     "text": [
      "Hello,  Dunsin !\n"
     ]
    }
   ],
   "source": [
    "name = input(\"Enter your name: \")\n",
    "print(f\"Hello, \", name, \"!\")"
   ]
  },
  {
   "cell_type": "markdown",
   "metadata": {},
   "source": [
    "### 7. Exercise\n",
    "Here’s a small exercise to help you practice what we’ve covered today:\n",
    "\n",
    "1.  Create variables to store your name, age, and whether you are a student.\n",
    "2.  Print a sentence using those variables. For example: \"Hi, my name is Alice. I am 25 years old. Am I a student? True\"\n",
    "3.  Calculate the area of a rectangle with a width of 10 and a height of 5, and print the result.\n",
    "\n",
    "Try writing the code on your own, and then run it to see the output!"
   ]
  },
  {
   "cell_type": "code",
   "execution_count": 11,
   "metadata": {},
   "outputs": [
    {
     "name": "stdout",
     "output_type": "stream",
     "text": [
      "Hi, my name is Fayode Dunsin. I am 27 years old. Am i an active student? The answer is False\n",
      "50\n"
     ]
    }
   ],
   "source": [
    "# Create variable\n",
    "name = input(\" Enter your full name\")\n",
    "age = 27 \n",
    "is_active_student = False\n",
    "\n",
    "print(f\"Hi, my name is {name}. I am {age} years old. Am i an active student? The answer is {is_active_student}\")\n",
    "\n",
    "# Calculate the area of rectangle \n",
    "width = 10\n",
    "height = 5\n",
    "\n",
    "area = width * height \n",
    "\n",
    "print(area)\n"
   ]
  },
  {
   "cell_type": "markdown",
   "metadata": {},
   "source": [
    "### 8. Conclusion\n",
    "That's it for Day 1! Today, you learned about Python syntax, variables, data types, and basic operations. These fundamentals are the building blocks for everything we'll do in Python, so it's important to be comfortable with them.\n",
    "\n",
    "If you have any questions or need clarification, feel free to ask. Tomorrow, we'll dive into control flow with `if`, `else`, and loops, which will allow you to write more complex programs.\n",
    "\n",
    "Happy coding! See you tomorrow! 😊"
   ]
  }
 ],
 "metadata": {
  "kernelspec": {
   "display_name": "Python 3",
   "language": "python",
   "name": "python3"
  },
  "language_info": {
   "codemirror_mode": {
    "name": "ipython",
    "version": 3
   },
   "file_extension": ".py",
   "mimetype": "text/x-python",
   "name": "python",
   "nbconvert_exporter": "python",
   "pygments_lexer": "ipython3",
   "version": "3.10.1"
  }
 },
 "nbformat": 4,
 "nbformat_minor": 2
}
