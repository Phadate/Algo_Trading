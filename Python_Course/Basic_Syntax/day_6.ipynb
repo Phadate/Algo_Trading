{
 "cells": [
  {
   "cell_type": "markdown",
   "metadata": {},
   "source": [
    "### Day 6: Error Handling and Exceptions in Python\n",
    "Error handling is a crucial part of writing any code, especially in complex tasks like quantitative analysis where unexpected errors can occur. Understanding how to handle these errors gracefully will help you debug faster and ensure your programs don’t crash unexpectedly.\n",
    "\n",
    "### 1. What are Errors and Exceptions?\n",
    "\n",
    "-   Errors are problems in the code that cause the program to fail, like syntax errors or wrong data types.\n",
    "-   Exceptions are errors that occur during the execution of a program. Instead of crashing your program, exceptions can be caught and handled.\n",
    "\n",
    "### 2. Common Types of Errors in Python\n",
    "\n",
    "-   SyntaxError: When the syntax of the code is incorrect (e.g., missing a colon `:` after an `if` statement).\n",
    "-   TypeError: When an operation is performed on an inappropriate data type (e.g., adding a string to an integer).\n",
    "-   NameError: When a variable is not defined.\n",
    "-   ValueError: When a function gets an argument of the correct type but an inappropriate value (e.g., converting a letter to an integer).\n",
    "\n",
    "### 3. The Try-Except Block\n",
    "\n",
    "The `try-except` block is used to handle exceptions gracefully, allowing you to manage errors without crashing your program.\n",
    "\n",
    "Basic Syntax:"
   ]
  },
  {
   "cell_type": "code",
   "execution_count": null,
   "metadata": {},
   "outputs": [],
   "source": [
    "try:\n",
    "    #code that might raise an error\n",
    "    risky_code()\n",
    "except ExceptionType:\n",
    "    code to run if an error occurs\n",
    "    handle_error()"
   ]
  },
  {
   "cell_type": "markdown",
   "metadata": {},
   "source": [
    "Example: Handlina Division by Zero"
   ]
  },
  {
   "cell_type": "code",
   "execution_count": null,
   "metadata": {},
   "outputs": [],
   "source": [
    "# Attempting to divide by zero\n",
    "try:\n",
    "    result = 10 / 0\n",
    "except ZeroDivisionError:\n",
    "    print(\"Error: You can't divide by zero!\")"
   ]
  },
  {
   "cell_type": "markdown",
   "metadata": {},
   "source": [
    "### 4. Catching Multiple Exceptions\n",
    "\n",
    "You can handle multiple types of exceptions by using `except` blocks.\n",
    "\n",
    "Example:"
   ]
  },
  {
   "cell_type": "code",
   "execution_count": null,
   "metadata": {},
   "outputs": [],
   "source": [
    "\n",
    "try:\n",
    "    value = int(input(\"Enter a number: \"))\n",
    "    result = 10 / value\n",
    "except ValueError:\n",
    "    print(\"Error: Please enter a valid number.\")\n",
    "except ZeroDivisionError:\n",
    "    print(\"Error: You can't divide by zero!\")"
   ]
  },
  {
   "cell_type": "markdown",
   "metadata": {},
   "source": [
    "### 5. The Else and Finally Clauses\n",
    "\n",
    "-   `else`: Runs if no exceptions occur in the `try` block.\n",
    "-   `finally`: Runs no matter what, even if an exception occurs. It’s useful for cleaning up resources like closing files.\n",
    "\n",
    "Example:"
   ]
  },
  {
   "cell_type": "code",
   "execution_count": null,
   "metadata": {},
   "outputs": [],
   "source": [
    "try:\n",
    "    value = int(input(\"Enter a number: \"))\n",
    "    result = 10 / value\n",
    "except (ValueError, ZeroDivisionError) as e:\n",
    "    print(f\"Error Occurred: {e}\")\n",
    "else:\n",
    "    print(f\"Success! The result is {result}\")\n",
    "finally:\n",
    "    print(\"This will run no matter what.\")"
   ]
  },
  {
   "cell_type": "markdown",
   "metadata": {},
   "source": [
    "### 6. Raising Your Own Exceptions\n",
    "You can raise exceptions deliberately when your code detects a problem.\n",
    "\n",
    "Example:"
   ]
  },
  {
   "cell_type": "code",
   "execution_count": null,
   "metadata": {},
   "outputs": [],
   "source": [
    "def check_positive(number):\n",
    "    if number < 0:\n",
    "        raise ValueError(\"Number must be positive\")\n",
    "    return number\n",
    "\n",
    "try:\n",
    "    print(check_positive(-4))\n",
    "except ValueError as e:\n",
    "    print(e)"
   ]
  },
  {
   "cell_type": "markdown",
   "metadata": {},
   "source": [
    "### 7. Summary of Best Practices\n",
    "-   Use specific exceptions rather than a general `except Exception`: to catch errors more precisely.\n",
    "-   Always clean up resources like files or network connections using `finally`.\n",
    "-   Avoid raising unnecessary exceptions. Use validation to prevent errors when possible."
   ]
  },
  {
   "cell_type": "markdown",
   "metadata": {},
   "source": [
    "### Exercises\n",
    "1. Catch a TypeError:\n",
    "\n",
    "    -  Write a program that tries to add an integer to a string and catches the resulting `TypeError`.\n",
    "\n",
    "2. Handle File Not Found:\n",
    "\n",
    "    -  Write a program that tries to open a file that does not exist and handles the `FileNotFoundError` gracefully.\n",
    "\n",
    "3. Raise Your Own Exception:\n",
    "\n",
    "    -  Write a function that checks if a number is in a specified range. If not, raise an exception with a custom message.\n",
    "\n",
    "4. Use Else and Finally:\n",
    "\n",
    "    -  Create a `try-except` block with both `else` and `finally` clauses to demonstrate their use."
   ]
  },
  {
   "cell_type": "markdown",
   "metadata": {},
   "source": [
    "- Exercise 1: "
   ]
  },
  {
   "cell_type": "code",
   "execution_count": null,
   "metadata": {},
   "outputs": [],
   "source": [
    "# Exercise 1\n",
    "# Write a program that tries to add an integer to a string and catches the resulting TypeError\n",
    "\n",
    "try:\n",
    "    num = int(input(\"Enter any number: \"))\n",
    "    letters = str(input(\"Enter any text here: \" ))\n",
    "\n",
    "    num + letters\n",
    "except TypeError:\n",
    "    print(\"Error: You can't add integer to a string\")"
   ]
  },
  {
   "cell_type": "code",
   "execution_count": null,
   "metadata": {},
   "outputs": [],
   "source": [
    "# Exercise 2 \n",
    "# Write a program that tries to open a file that does not exist and handles the `FileNotFoundError` gracefully\n",
    "def read_file(filename):\n",
    "    try:\n",
    "        with open(filename, 'r') as file:\n",
    "            content = file.read()\n",
    "            print(f\"File contents:\\n{content}\")\n",
    "    except FileNotFoundError:\n",
    "        print(f\"Error: The file '{filename}' was not found.\")\n",
    "    \n",
    "# Example usage\n",
    "filename = \"nonexistent_file.txt\"\n",
    "read_file(filename)"
   ]
  },
  {
   "cell_type": "code",
   "execution_count": null,
   "metadata": {},
   "outputs": [],
   "source": [
    "# Exercise 3\n",
    "# Write a function that checks if a number is in a specified range. If not, raise an exception with a custom message.\n",
    "\n",
    "def check_range(number, min_value, max_value):\n",
    "    if  not number in range(min_value, max_value):\n",
    "        raise ValueError(\"Number out of range!\")\n",
    "    return (\"Number in range\")\n",
    "\n",
    "try:\n",
    "    print(check_range(15,4, 15))\n",
    "except ValueError as e:\n",
    "    print(e)\n"
   ]
  },
  {
   "cell_type": "code",
   "execution_count": null,
   "metadata": {},
   "outputs": [],
   "source": [
    "# Exercise 4 \n",
    "# Create a `try-except` block with both `else` and `finally` clauses to demonstrate their use\n",
    "\n",
    "def divide_numbers(a, b):\n",
    "    try:\n",
    "        result = a / b\n",
    "    except ZeroDivisionError:\n",
    "        print(\"Error: Cannot divide by zero!\")\n",
    "        return None\n",
    "    except TypeError:\n",
    "        print(\"Error: Please provide two numbers for division.\")\n",
    "        return None\n",
    "    else:\n",
    "        print(f\"Division successful! {a} divided by {b} is {result}\")\n",
    "        return result\n",
    "    finally:\n",
    "        print(\"This is the finally clause. It always executes.\")\n",
    "\n",
    "    \n",
    "divide_numbers(10,0)"
   ]
  },
  {
   "cell_type": "markdown",
   "metadata": {},
   "source": [
    "### Conclusion\n",
    "Understanding and managing errors effectively is key to writing stable code. Error handling will be crucial when working on larger projects, particularly in quantitative analysis, where unexpected data issues can frequently arise.\n"
   ]
  }
 ],
 "metadata": {
  "kernelspec": {
   "display_name": "Python 3",
   "language": "python",
   "name": "python3"
  },
  "language_info": {
   "codemirror_mode": {
    "name": "ipython",
    "version": 3
   },
   "file_extension": ".py",
   "mimetype": "text/x-python",
   "name": "python",
   "nbconvert_exporter": "python",
   "pygments_lexer": "ipython3",
   "version": "3.10.1"
  }
 },
 "nbformat": 4,
 "nbformat_minor": 2
}
