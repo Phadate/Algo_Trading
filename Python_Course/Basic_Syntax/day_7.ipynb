{
 "cells": [
  {
   "cell_type": "markdown",
   "metadata": {},
   "source": [
    "### Day 7: Working with Python Libraries for Data Analysis\n",
    "Welcome back! Today, we’ll take a significant step towards your goal of using Python for quantitative analysis by diving into some powerful Python libraries: NumPy, Pandas, and Matplotlib. These libraries form the backbone of data manipulation, analysis, and visualization in Python. We'll introduce you to each library and get hands-on with some examples.\n",
    "\n",
    "### 1. Introduction to Python Libraries for Data Analysis\n",
    "Python libraries are pre-written code that allows you to perform tasks more efficiently. For data analysis, three of the most widely used libraries are:\n",
    "\n",
    "NumPy: Provides support for numerical computing and working with arrays.\n",
    "Pandas: Offers data structures and data manipulation tools, making it easy to work with structured data.\n",
    "Matplotlib: A plotting library for creating static, interactive, and animated visualizations.\n",
    "### 2. NumPy: Numerical Python\n",
    "NumPy is a library used for numerical calculations, especially with arrays (similar to lists but more powerful). It supports operations on large, multi-dimensional arrays and matrices.\n",
    "\n",
    "Getting Started with NumPy:\n"
   ]
  },
  {
   "cell_type": "code",
   "execution_count": 4,
   "metadata": {},
   "outputs": [
    {
     "name": "stdout",
     "output_type": "stream",
     "text": [
      "Array: [1 2 3 4 5]\n",
      "Array multiplied by 2: [ 2  4  6  8 10]\n"
     ]
    }
   ],
   "source": [
    "# Importing NumPy\n",
    "import numpy as np\n",
    "\n",
    "# Creating a NumPy array\n",
    "array = np.array([1, 2, 3, 4, 5])\n",
    "print(\"Array:\", array)\n",
    "\n",
    "# Performing operations\n",
    "print(\"Array multiplied by 2:\", array * 2)  # Multiplies each element by 2"
   ]
  },
  {
   "cell_type": "markdown",
   "metadata": {},
   "source": [
    "Why Use NumPy?\n",
    "\n",
    "-   Fast numerical computations.\n",
    "-   Useful for mathematical operations like addition, multiplication, and statistical calculations.\n",
    "-   Efficient storage and manipulation of data.\n",
    "\n",
    "### 3. Pandas: Data Manipulation Made Easy\n",
    "Pandas is essential for working with structured data. It provides two main data structures:\n",
    "\n",
    "Series: A one-dimensional labeled array, like a list with labels.\n",
    "DataFrame: A two-dimensional table, like an Excel spreadsheet.\n",
    "\n",
    "Getting Started with Pandas:"
   ]
  },
  {
   "cell_type": "code",
   "execution_count": 3,
   "metadata": {},
   "outputs": [
    {
     "name": "stdout",
     "output_type": "stream",
     "text": [
      "      Name  Age         City\n",
      "0    Alice   25     New York\n",
      "1      Bob   30  Los Angeles\n",
      "2  Charlie   35      Chicago\n",
      "Names: 0      Alice\n",
      "1        Bob\n",
      "2    Charlie\n",
      "Name: Name, dtype: object\n",
      "Average age: 30.0\n"
     ]
    }
   ],
   "source": [
    "# Importing Pandas\n",
    "import pandas as pd\n",
    "\n",
    "# Creating a DataFrame from a dictionary\n",
    "data = {'Name': ['Alice', 'Bob', 'Charlie'],\n",
    "        'Age': [25, 30, 35],\n",
    "        'City': ['New York', 'Los Angeles', 'Chicago']}\n",
    "\n",
    "df = pd.DataFrame(data)\n",
    "\n",
    "# Displaying the DataFrame\n",
    "print(df)\n",
    "\n",
    "# Accessing columns\n",
    "print(\"Names:\", df['Name'])\n",
    "\n",
    "# Basic statistics\n",
    "print(\"Average age:\", df['Age'].mean())"
   ]
  },
  {
   "cell_type": "markdown",
   "metadata": {},
   "source": [
    "Why Use Pandas?\n",
    "\n",
    "-   Simplifies data cleaning, manipulation, and analysis.\n",
    "-   Can handle large datasets efficiently.\n",
    "-   Integrates well with other data science libraries like NumPy and Matplotlib.\n",
    "### 4. Matplotlib: Visualizing Data\n",
    "Matplotlib is a powerful library for creating a variety of plots and charts. Visualizing your data can help you understand trends, patterns, and insights.\n",
    "\n",
    "Getting Started with Matplotlib:"
   ]
  },
  {
   "cell_type": "code",
   "execution_count": 2,
   "metadata": {},
   "outputs": [
    {
     "data": {
      "image/png": "[encoded data removed]",
      "text/plain": [
       "<Figure size 432x288 with 1 Axes>"
      ]
     },
     "metadata": {
      "needs_background": "light"
     },
     "output_type": "display_data"
    }
   ],
   "source": [
    "\n",
    "# Importing Matplotlib\n",
    "import matplotlib.pyplot as plt\n",
    "\n",
    "# Creating simple data\n",
    "x = [1, 2, 3, 4, 5]\n",
    "y = [10, 14, 18, 22, 26]\n",
    "\n",
    "# Plotting the data\n",
    "plt.plot(x, y, marker='o')\n",
    "plt.title('Simple Line Plot')\n",
    "plt.xlabel('X Axis')\n",
    "plt.ylabel('Y Axis')\n",
    "plt.show()"
   ]
  },
  {
   "cell_type": "markdown",
   "metadata": {},
   "source": [
    "Why Use Matplotlib?\n",
    "\n",
    "-  Wide variety of plots: line, scatter, bar, histogram, etc.\n",
    "-  Highly customizable to fit your visualization needs.\n",
    "-  Helps communicate your findings through graphical representation.\n",
    "### 5. Combining Pandas, NumPy, and Matplotlib\n",
    "These libraries are often used together in data analysis workflows. Let’s see a simple example of using all three libraries.\n",
    "\n",
    "Example: Analyzing and Plotting Data"
   ]
  },
  {
   "cell_type": "code",
   "execution_count": 1,
   "metadata": {},
   "outputs": [
    {
     "name": "stdout",
     "output_type": "stream",
     "text": [
      "Mean: 51.01032432606234, Standard Deviation: 10.040832372472947\n"
     ]
    },
    {
     "data": {
      "image/png": "[encoded data removed]",
      "text/plain": [
       "<Figure size 432x288 with 1 Axes>"
      ]
     },
     "metadata": {
      "needs_background": "light"
     },
     "output_type": "display_data"
    }
   ],
   "source": [
    "import numpy as np\n",
    "import pandas as pd\n",
    "import matplotlib.pyplot as plt\n",
    "\n",
    "# Creating sample data with NumPy\n",
    "data = np.random.normal(loc=50, scale=10, size=100)  # 100 random numbers around 50\n",
    "\n",
    "# Creating a DataFrame with Pandas\n",
    "df = pd.DataFrame(data, columns=['Values'])\n",
    "\n",
    "# Basic statistics\n",
    "mean = df['Values'].mean()\n",
    "std_dev = df['Values'].std()\n",
    "print(f\"Mean: {mean}, Standard Deviation: {std_dev}\")\n",
    "\n",
    "# Plotting the data with Matplotlib\n",
    "plt.hist(df['Values'], bins=15, color='blue', alpha=0.7)\n",
    "plt.axvline(mean, color='red', linestyle='--', label=f'Mean: {mean:.2f}')\n",
    "plt.axvline(mean + std_dev, color='green', linestyle='--', label=f'Standard Deviation: {std_dev:.2f}')\n",
    "plt.axvline(mean - std_dev, color='green', linestyle='--')\n",
    "plt.title('Histogram of Values')\n",
    "plt.xlabel('Value')\n",
    "plt.ylabel('Frequency')\n",
    "plt.legend()\n",
    "plt.show()"
   ]
  },
  {
   "cell_type": "markdown",
   "metadata": {},
   "source": [
    "Exercises for Practice\n",
    "1. Using NumPy:\n",
    "\n",
    "    - Create a NumPy array of 10 random integers between 1 and 100. Find the maximum, minimum, and average values.\n",
    "\n",
    "2. Pandas DataFrame:\n",
    "    - Create a DataFrame with columns: Name, Age, and Score. Calculate the average score of the people in the DataFrame.\n",
    "\n",
    "3. Matplotlib Plot:\n",
    "\n",
    "    - Plot a scatter plot with random x and y values between 0 and 50. Label your axes and add a title.\n",
    "\n",
    "4. Combine All Three:\n",
    "    - Create a DataFrame with random data using NumPy, perform a simple analysis, and plot your findings using Matplotlib."
   ]
  },
  {
   "cell_type": "code",
   "execution_count": 9,
   "metadata": {},
   "outputs": [
    {
     "name": "stdout",
     "output_type": "stream",
     "text": [
      "[63 83 99 61 53  3 88 54 75 12]\n",
      "The Average value is: 59.1\n",
      "The Maximum value is: 99\n",
      "The Minimum value is: 3\n"
     ]
    }
   ],
   "source": [
    "# Exercise 1 \n",
    "\n",
    "import numpy as np\n",
    "\n",
    "rad = np.random.randint(1,100, size=10)\n",
    "\n",
    "print(rad)\n",
    "\n",
    "#Find average value\n",
    "print(\"The Average value is:\" ,rad.mean())\n",
    "\n",
    "# Find the Max value\n",
    "print(\"The Maximum value is:\" ,rad.max())\n",
    "\n",
    "# Find the Min Value\n",
    "print(\"The Minimum value is:\" ,rad.min())"
   ]
  },
  {
   "cell_type": "code",
   "execution_count": 38,
   "metadata": {},
   "outputs": [
    {
     "name": "stdout",
     "output_type": "stream",
     "text": [
      "The Average Score is 68.67\n"
     ]
    }
   ],
   "source": [
    "import pandas as pd\n",
    "\n",
    "# Creating a dataframe\n",
    "\n",
    "data =  {'Name': ['Fikayo', 'Wale', 'Dunni'],\n",
    "        'Age': [25, 20, 21],\n",
    "        'Score': [80, 70, 56]}\n",
    "\n",
    "df = pd.DataFrame(data)\n",
    "\n",
    "# print the DataFrame\n",
    "\n",
    "# Calculate the Average score \n",
    "avg_score = df['Score'].mean()\n",
    "\n",
    "# print the avg_score\n",
    "print(f\"The Average Score is {avg_score:.2f}\")"
   ]
  },
  {
   "cell_type": "code",
   "execution_count": 36,
   "metadata": {},
   "outputs": [
    {
     "data": {
      "image/png": "[encoded data removed]",
      "text/plain": [
       "<Figure size 432x288 with 1 Axes>"
      ]
     },
     "metadata": {
      "needs_background": "light"
     },
     "output_type": "display_data"
    }
   ],
   "source": [
    "# Plot a scatter plot with random x and y values between 0 and 50. Label your axes and add a title\n",
    "\n",
    "import matplotlib.pyplot as plt\n",
    "\n",
    "# Creating random number for x and y \n",
    "\n",
    "x = np.random.normal(1,50, size=20)\n",
    "y = np.random.randint(1,50, size=20)\n",
    "\n",
    "# plotting the data \n",
    "\n",
    "plt.scatter(x,y, color= 'hotpink')\n",
    "plt.title('Plotting Scatter plot')\n",
    "plt.xlabel('X Axis')\n",
    "plt.ylabel('Y Axis')\n",
    "plt.show()\n"
   ]
  },
  {
   "cell_type": "code",
   "execution_count": 40,
   "metadata": {},
   "outputs": [
    {
     "name": "stdout",
     "output_type": "stream",
     "text": [
      "Mean: 49.273942331585914, Standard Deviation: 10.142623959390821\n"
     ]
    },
    {
     "data": {
      "image/png": "[encoded data removed]",
      "text/plain": [
       "<Figure size 432x288 with 1 Axes>"
      ]
     },
     "metadata": {
      "needs_background": "light"
     },
     "output_type": "display_data"
    }
   ],
   "source": [
    "# Create a DataFrame with random data using NumPy, perform a simple analysis, and plot your findings using Matplotlib\n",
    "\n",
    "import numpy as np\n",
    "import pandas as pd\n",
    "import matplotlib.pyplot as plt\n",
    "\n",
    "# Creating sample data with NumPy\n",
    "data = np.random.normal(loc=50, scale=10, size=100)  # 100 random numbers around 50\n",
    "\n",
    "# Creating a DataFrame with Pandas\n",
    "df = pd.DataFrame(data, columns=['Values'])\n",
    "\n",
    "# Basic statistics\n",
    "mean = df['Values'].mean()\n",
    "std_dev = df['Values'].std()\n",
    "mode = df['Values'].mode()\n",
    "print(f\"Mean: {mean}, Standard Deviation: {std_dev}\")\n",
    "\n",
    "# Plotting the data with Matplotlib\n",
    "plt.hist(df['Values'], bins=15, color='blue', alpha=0.7)\n",
    "plt.axvline(mean, color='red', linestyle='--', label=f'Mean: {mean:.2f}')\n",
    "plt.axvline(mean + std_dev, color='green', linestyle='--', label=f'Standard Deviation: {std_dev:.2f}')\n",
    "plt.axvline(mean - std_dev, color='green', linestyle='--')\n",
    "plt.title('Histogram of Values')\n",
    "plt.xlabel('Value')\n",
    "plt.ylabel('Frequency')\n",
    "plt.legend()\n",
    "plt.show()"
   ]
  },
  {
   "cell_type": "markdown",
   "metadata": {},
   "source": [
    "**Conclusion**\n",
    "\n",
    "\n",
    "Today’s lesson introduced you to powerful Python libraries that are essential for data analysis. Practice the examples and exercises to become more comfortable with NumPy, Pandas, and Matplotlib. Mastering these libraries will be crucial as you progress in quantitative analysis and beyond."
   ]
  }
 ],
 "metadata": {
  "kernelspec": {
   "display_name": "Python 3",
   "language": "python",
   "name": "python3"
  },
  "language_info": {
   "codemirror_mode": {
    "name": "ipython",
    "version": 3
   },
   "file_extension": ".py",
   "mimetype": "text/x-python",
   "name": "python",
   "nbconvert_exporter": "python",
   "pygments_lexer": "ipython3",
   "version": "3.10.1"
  }
 },
 "nbformat": 4,
 "nbformat_minor": 2
}
