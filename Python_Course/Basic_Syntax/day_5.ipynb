{
 "cells": [
  {
   "cell_type": "markdown",
   "metadata": {},
   "source": [
    "### Day 5: Python Loops and Comprehensions\n",
    "Welcome back! Today, we’ll cover an essential topic that will significantly improve your ability to handle data efficiently: Loops and Comprehensions. Loops allow you to execute code repeatedly, which is especially useful when working with collections of data, such as lists, dictionaries, and sets. Comprehensions provide a concise way to create these data structures. Let’s dive into today’s lesson!\n",
    "\n",
    "1. Loops in Python\n",
    "**`for` Loop**\n",
    "-   What is a `for` Loop?\n",
    "\n",
    "    -   A `for` loop lets you iterate over a sequence (like a list, tuple, dictionary, or set) and execute code for each element.\n",
    "- Basic Example:"
   ]
  },
  {
   "cell_type": "code",
   "execution_count": null,
   "metadata": {},
   "outputs": [],
   "source": [
    "# Using a for loop to print each item in a list\n",
    "\n",
    "fruits = [\"apple\",  \"banana\",  \"cherry\"]\n",
    "\n",
    "for fruit in fruits:\n",
    "    print(fruit)"
   ]
  },
  {
   "cell_type": "markdown",
   "metadata": {},
   "source": [
    "- Using `range()`:\n",
    "\n",
    "    - `range()` generates a sequence of numbers, which is very useful for iterating a specific number of times"
   ]
  },
  {
   "cell_type": "code",
   "execution_count": null,
   "metadata": {},
   "outputs": [],
   "source": [
    "# Printing numbers from 0 to 4\n",
    "\n",
    "for i in range(5):\n",
    "    print(i)"
   ]
  },
  {
   "cell_type": "markdown",
   "metadata": {},
   "source": [
    "**`while` Loop**\n",
    "-   What is a `while` Loop?\n",
    "\n",
    "    -   A `while` loop repeats as long as a specified condition is True.\n",
    "- Basic Example:"
   ]
  },
  {
   "cell_type": "code",
   "execution_count": null,
   "metadata": {},
   "outputs": [],
   "source": [
    "# Using a while loop to count from 1 to 5\n",
    "\n",
    "count = 1\n",
    "while count <= 5:\n",
    "    print(count)\n",
    "    count += 1\n"
   ]
  },
  {
   "cell_type": "markdown",
   "metadata": {},
   "source": [
    "-   Using `break` and `continue`:\n",
    "\n",
    "    - `break` stops the loop.\n",
    "\n",
    "    - `continue` skips to the next iteration."
   ]
  },
  {
   "cell_type": "code",
   "execution_count": null,
   "metadata": {},
   "outputs": [],
   "source": [
    "# Example of break and continue \n",
    "\n",
    "for num in range(1, 10):\n",
    "    if num == 5:\n",
    "        break\n",
    "    elif num % 2 == 0:\n",
    "        continue\n",
    "    print(num)"
   ]
  },
  {
   "cell_type": "markdown",
   "metadata": {},
   "source": [
    "### 2. List Comprehensions\n",
    "- What is List Comprehension?\n",
    "\n",
    "    -   A concise way to create lists using a single line of code, typically used to transform or filter elements from another list.\n",
    "- Basic Example:"
   ]
  },
  {
   "cell_type": "code",
   "execution_count": null,
   "metadata": {},
   "outputs": [],
   "source": [
    "# Creating a list of squares using list comprehension\n",
    "squares = [x ** 2 for x in range(6)]\n",
    "print(squares)"
   ]
  },
  {
   "cell_type": "markdown",
   "metadata": {},
   "source": [
    "-   Filtering with List Comprehension:"
   ]
  },
  {
   "cell_type": "code",
   "execution_count": null,
   "metadata": {},
   "outputs": [],
   "source": [
    "# Creating a list of even numbers using list comprehension with condition \n",
    "even_numbers = [x for x in range(10) if x % 2 == 0]\n",
    "\n",
    "print(even_numbers)"
   ]
  },
  {
   "cell_type": "markdown",
   "metadata": {},
   "source": [
    "### 3. Dictionarry Comprehension\n",
    "- What is Dictionary Comprehension?\n",
    "\n",
    "    - A concise way to create dictionaries using a single line of code.\n",
    "- Basic Example:"
   ]
  },
  {
   "cell_type": "code",
   "execution_count": null,
   "metadata": {},
   "outputs": [],
   "source": [
    "# Creating a dictionary with numbers and their squares\n",
    "\n",
    "student_dict = {x: x ** 2 for x in range(5)}\n",
    "print(student_dict)"
   ]
  },
  {
   "cell_type": "markdown",
   "metadata": {},
   "source": [
    "### 4. Sets Comprehensions\n",
    "- What is Set Comprehension?\n",
    "\n",
    "    - A concise way to create sets using a single line of code, often used to remove duplicates.\n",
    "- Basic Example:"
   ]
  },
  {
   "cell_type": "code",
   "execution_count": null,
   "metadata": {},
   "outputs": [],
   "source": [
    "# Creating a set of unique characters from a string \n",
    "\n",
    "unique_chars = {char for char in \"hello\"}\n",
    "print(unique_chars)"
   ]
  },
  {
   "cell_type": "markdown",
   "metadata": {},
   "source": [
    "### 5. Exercises\n",
    "\n",
    "\n",
    "1. Even Numbers with a Loop:\n",
    "\n",
    "    - Write a for loop to print all even numbers from 1 to 20.\n",
    "\n",
    "2. Sum of Numbers:\n",
    "\n",
    "    - Write a while loop that sums numbers from 1 to 10 and prints the result.\n",
    "\n",
    "3. Squares List Comprehension:\n",
    "\n",
    "    - Use a list comprehension to create a list of squares from 1 to 10.\n",
    "\n",
    "4. Create a Dictionary of Number-Word Pairs:\n",
    "\n",
    "    - Use a dictionary comprehension to map numbers (1 to 5) to their word equivalents (e.g., {1: \"one\", 2: \"two\"}).\n",
    "\n",
    "5. Vowel Filter with Set Comprehension:\n",
    "\n",
    "    - Use a set comprehension to extract all the vowels from the word \"quantitative\"."
   ]
  },
  {
   "cell_type": "markdown",
   "metadata": {},
   "source": [
    "- Exercise 1: "
   ]
  },
  {
   "cell_type": "code",
   "execution_count": null,
   "metadata": {},
   "outputs": [],
   "source": [
    "# Exercise 1\n",
    "# Write a for loop to print all even numbers from 1 to 20\n",
    "\n",
    "for i in range(1,21):\n",
    "    if i % 2 == 0:\n",
    "        print(i)"
   ]
  },
  {
   "cell_type": "code",
   "execution_count": null,
   "metadata": {},
   "outputs": [],
   "source": [
    "# Exercise 2 \n",
    "# Write a while loop that sums numbers from 1 to 10 and prints the result\n",
    "sum = 1\n",
    "total = 0\n",
    "while sum <= 10:\n",
    "    total += sum\n",
    "    sum += 1\n",
    "\n",
    "print(total) "
   ]
  },
  {
   "cell_type": "code",
   "execution_count": null,
   "metadata": {},
   "outputs": [],
   "source": [
    "# Exercise 3\n",
    "# Use a list comprehension to create a list of squares from 1 to 10\n",
    "\n",
    "squaress = [x ** 2 for x in range(1, 11)]\n",
    "print(squaress)"
   ]
  },
  {
   "cell_type": "code",
   "execution_count": null,
   "metadata": {},
   "outputs": [],
   "source": [
    "# Exercise 4 \n",
    "# Use a dictionary comprehension to map numbers (1 to 5) to their word equivalents (e.g., {1: \"one\", 2: \"two\"})\n",
    "\n",
    "word_map = {1 : \"one\", 2 : \"two\", 3 : \"three\", 4 : \"four\", 5 : \"five\"}\n",
    "\n",
    "word_map"
   ]
  },
  {
   "cell_type": "code",
   "execution_count": null,
   "metadata": {},
   "outputs": [],
   "source": [
    "# Exercise 5\n",
    "# Use a set comprehension to extract all the vowels from the word \"quantitative\".\n",
    "\n",
    "\n",
    "unique_vowel = {char for char in \"quantitative\" if char in 'aeiou'}\n",
    "\n",
    "print(unique_vowel)\n"
   ]
  },
  {
   "cell_type": "markdown",
   "metadata": {},
   "source": [
    "### Conclusion\n",
    "Today, we explored how to use loops to iterate over data and how comprehensions can help you create data structures efficiently in a single line. Mastering these techniques will greatly enhance your coding skills, especially in data analysis and manipulation tasks.\n",
    "\n",
    "For the next lesson, we’ll dive deeper into functions in Python, which will allow you to write reusable and organized code."
   ]
  }
 ],
 "metadata": {
  "kernelspec": {
   "display_name": "Python 3",
   "language": "python",
   "name": "python3"
  },
  "language_info": {
   "codemirror_mode": {
    "name": "ipython",
    "version": 3
   },
   "file_extension": ".py",
   "mimetype": "text/x-python",
   "name": "python",
   "nbconvert_exporter": "python",
   "pygments_lexer": "ipython3",
   "version": "3.10.1"
  }
 },
 "nbformat": 4,
 "nbformat_minor": 2
}
